{
 "cells": [
  {
   "cell_type": "code",
   "execution_count": 9,
   "id": "988dae88",
   "metadata": {},
   "outputs": [
    {
     "name": "stdout",
     "output_type": "stream",
     "text": [
      "[[[9 1 4]\n",
      "  [5 3 9]\n",
      "  [3 0 0]]\n",
      "\n",
      " [[6 7 2]\n",
      "  [0 3 3]\n",
      "  [2 2 4]]\n",
      "\n",
      " [[7 8 3]\n",
      "  [7 6 7]\n",
      "  [1 1 4]]]\n"
     ]
    }
   ],
   "source": [
    "import numpy as np\n",
    "from numpy import random\n",
    "\n",
    "a = random.randint(10, size = (3, 3, 3))\n",
    "print(a)"
   ]
  },
  {
   "cell_type": "code",
   "execution_count": 12,
   "id": "c827c86d",
   "metadata": {},
   "outputs": [
    {
     "name": "stdout",
     "output_type": "stream",
     "text": [
      "[[9552 9348 4805 3712 8469 5954 6844 4085 3818 5627]\n",
      " [5156 3379  386 7598 5131 9523 8078 8438 7591 6811]\n",
      " [9586 7586 8694 9047 1326 2751 3161  859 4934 7188]\n",
      " [2154   19 7549 9745 7656 6300 9935 5671 9948 4403]\n",
      " [ 617 2299 8272 1344 8769 1291 1156 7594 7244 2419]\n",
      " [8789 8017 2940 3305 2036 4544 9670 7797 2853 9634]\n",
      " [5770 7530 8764 2602 6903 8667   16 9195  789 2444]\n",
      " [ 876 1712 1819 8167 6002 7010 1386 3751 1592  307]\n",
      " [2878 3866  627 5203 1696 2740 1635 1008 8696 7712]\n",
      " [9881 3159 5628 3045 2098 6053 7724 2095 6774 7582]]\n",
      "9948\n",
      "16\n"
     ]
    }
   ],
   "source": [
    "b = random.randint(10000, size = (10, 10))\n",
    "print(b)\n",
    "\n",
    "print(np.max(b))\n",
    "print(np.min(b))"
   ]
  },
  {
   "cell_type": "code",
   "execution_count": 27,
   "id": "3e1254b1",
   "metadata": {},
   "outputs": [
    {
     "name": "stdout",
     "output_type": "stream",
     "text": [
      "[80 65 19 44 63 81 24 76 71 74]\n",
      "[80 19 63 24 71]\n",
      "59.7\n"
     ]
    }
   ],
   "source": [
    "c = random.randint(100, size = (10))\n",
    "print(c)\n",
    "print(c[0::2])\n",
    "print(np.mean(c, axis = 0))"
   ]
  },
  {
   "cell_type": "code",
   "execution_count": 39,
   "id": "68fe1518",
   "metadata": {},
   "outputs": [
    {
     "name": "stdout",
     "output_type": "stream",
     "text": [
      "[[1. 1. 1. 1. 1.]\n",
      " [1. 1. 1. 1. 1.]\n",
      " [1. 1. 1. 1. 1.]\n",
      " [1. 1. 1. 1. 1.]\n",
      " [1. 1. 1. 1. 1.]]\n"
     ]
    },
    {
     "data": {
      "text/plain": [
       "array([[1., 1., 1., 1., 1.],\n",
       "       [1., 0., 0., 0., 1.],\n",
       "       [1., 0., 0., 0., 1.],\n",
       "       [1., 0., 0., 0., 1.],\n",
       "       [1., 1., 1., 1., 1.]])"
      ]
     },
     "execution_count": 39,
     "metadata": {},
     "output_type": "execute_result"
    }
   ],
   "source": [
    "d = np.ones((5, 5))\n",
    "print(d)\n",
    "d[1:np.shape(d)[1]-1, 1:np.shape(d)[1]-1] = 0\n",
    "d"
   ]
  },
  {
   "cell_type": "code",
   "execution_count": null,
   "id": "37c23763",
   "metadata": {},
   "outputs": [],
   "source": []
  }
 ],
 "metadata": {
  "kernelspec": {
   "display_name": "Python 3",
   "language": "python",
   "name": "python3"
  },
  "language_info": {
   "codemirror_mode": {
    "name": "ipython",
    "version": 3
   },
   "file_extension": ".py",
   "mimetype": "text/x-python",
   "name": "python",
   "nbconvert_exporter": "python",
   "pygments_lexer": "ipython3",
   "version": "3.8.8"
  }
 },
 "nbformat": 4,
 "nbformat_minor": 5
}
