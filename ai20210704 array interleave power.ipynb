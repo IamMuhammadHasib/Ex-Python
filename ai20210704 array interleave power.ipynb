{
 "cells": [
  {
   "cell_type": "code",
   "execution_count": 39,
   "id": "8be6f8d8",
   "metadata": {},
   "outputs": [
    {
     "data": {
      "text/plain": [
       "array([1., 0., 0., 0., 2., 0., 0., 0., 3., 0., 0., 0., 4., 0., 0., 0., 5.])"
      ]
     },
     "execution_count": 39,
     "metadata": {},
     "output_type": "execute_result"
    }
   ],
   "source": [
    "import numpy as np\n",
    "from numpy import random\n",
    "\n",
    "v = np.array([1, 2, 3, 4, 5])\n",
    "x = np.insert(v, 1, [0, 0, 0])\n",
    "x\n",
    "y = np.zeros(17)\n",
    "y[::4] = v\n",
    "y"
   ]
  },
  {
   "cell_type": "code",
   "execution_count": 50,
   "id": "76e41557",
   "metadata": {},
   "outputs": [
    {
     "name": "stdout",
     "output_type": "stream",
     "text": [
      "[37548843 35735150  6257848 ... 53919587 71616672 36860790]\n",
      "[  214927251    42866488  2118913536 ...  1738224443 -1835106304\n",
      "   850384408]\n",
      "[  214927251    42866488  2118913536 ...  1738224443 -1835106304\n",
      "   850384408]\n",
      "[  214927251    42866488  2118913536 ...  1738224443 -1835106304\n",
      "   850384408]\n",
      "[  214927251    42866488  2118913536 ...  1738224443 -1835106304\n",
      "   850384408]\n",
      "[  214927251    42866488  2118913536 ...  1738224443 -1835106304\n",
      "   850384408]\n",
      "[  214927251    42866488  2118913536 ...  1738224443 -1835106304\n",
      "   850384408]\n",
      "[  214927251    42866488  2118913536 ...  1738224443 -1835106304\n",
      "   850384408]\n",
      "[  214927251    42866488  2118913536 ...  1738224443 -1835106304\n",
      "   850384408]\n",
      "411 ms ± 52.5 ms per loop (mean ± std. dev. of 7 runs, 1 loop each)\n",
      "[  214927251    42866488  2118913536 ...  1738224443 -1835106304\n",
      "   850384408]\n",
      "[  214927251    42866488  2118913536 ...  1738224443 -1835106304\n",
      "   850384408]\n"
     ]
    }
   ],
   "source": [
    "a = random.randint(1, 100000000, 100000000)\n",
    "print(a)\n",
    "%timeit print(np.power(a, 3))\n",
    "print(a**3)\n",
    "print(a*a*a)"
   ]
  },
  {
   "cell_type": "code",
   "execution_count": null,
   "id": "ab036b51",
   "metadata": {},
   "outputs": [],
   "source": []
  }
 ],
 "metadata": {
  "kernelspec": {
   "display_name": "Python 3",
   "language": "python",
   "name": "python3"
  },
  "language_info": {
   "codemirror_mode": {
    "name": "ipython",
    "version": 3
   },
   "file_extension": ".py",
   "mimetype": "text/x-python",
   "name": "python",
   "nbconvert_exporter": "python",
   "pygments_lexer": "ipython3",
   "version": "3.8.8"
  }
 },
 "nbformat": 4,
 "nbformat_minor": 5
}
