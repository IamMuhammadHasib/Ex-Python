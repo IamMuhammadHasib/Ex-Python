{
 "cells": [
  {
   "cell_type": "code",
   "execution_count": 16,
   "id": "48c1ae6d",
   "metadata": {},
   "outputs": [
    {
     "name": "stdout",
     "output_type": "stream",
     "text": [
      "[47. 44. 47. 47. 49. 49. 47. 45. 42. 43. 49. 48. 47. 48. 41. 45. 45. 45.\n",
      " 40. 40. 48. 42. 42. 43. 42. 44. 42. 45. 44. 40. 41. 40. 41. 42. 41. 46.\n",
      " 47. 47. 45. 46. 43. 45. 42. 45. 43. 48. 44. 49. 44. 41. 43. 46. 49. 42.\n",
      " 44. 47. 47. 42. 48. 49. 42. 44. 49. 44. 43. 42. 47. 49. 46. 45. 47. 44.\n",
      " 40. 48. 40. 47. 41. 47. 49. 44. 49. 45. 40. 47. 43. 40. 45. 42. 42. 45.\n",
      " 47. 41. 42. 45. 46. 48. 49. 48. 46. 41.]\n",
      "[ 0.  0.  0.  0.  0.  0.  0.  0.  0.  0.  0.  0.  0.  0.  0.  0.  0.  0.\n",
      "  0.  0.  0.  0.  0.  0.  0.  0.  0.  0.  0.  0.  0.  0.  0.  0.  0.  0.\n",
      "  0.  0.  0.  0.  0.  0.  0.  0.  0.  0.  0.  0.  0.  0.  0.  0.  0.  0.\n",
      "  0.  0.  0.  0.  0.  0.  0.  0.  0.  0.  0.  0.  0.  0.  0.  0.  0.  0.\n",
      "  0.  0.  0.  0.  0.  0.  0.  0.  0.  0.  0.  0.  0.  0.  0.  0.  0.  0.\n",
      "  0.  0.  0.  0.  0.  0.  0.  0.  0. 40.]\n",
      "[[40. 49. 40. 46. 41. 42. 42. 44. 40. 40. 44. 41. 40. 48. 42. 49. 47. 44.\n",
      "  41. 44. 46. 49. 46. 44. 45. 42. 43. 48. 46. 45. 47. 45. 47. 47. 46. 41.\n",
      "  43. 43. 49. 47. 46. 47. 46. 47. 44. 41. 47. 45. 46. 40. 49. 45. 40. 44.\n",
      "  44. 44. 48. 47. 43. 42. 47. 48. 43. 44. 40. 47. 42. 45. 48. 48. 47. 40.\n",
      "  45. 49. 46. 41. 45. 40. 48. 41. 45. 46. 49. 47. 47. 45. 45. 49. 48. 46.\n",
      "  44. 45. 44. 41. 46. 47. 46. 48. 48. 45.]]\n"
     ]
    }
   ],
   "source": [
    "import numpy as np\n",
    "from numpy import random\n",
    "\n",
    "a = random.rand(100, 100)\n",
    "a[:, 99] = random.randint(40, 50, 100)\n",
    "print(a[:, -1])\n",
    "\n",
    "b = np.zeros([100, 100])\n",
    "b[:, 99] = random.randint(40, 50, 100)\n",
    "print(b[2, :])\n",
    "\n",
    "g = b[:, 99]\n",
    "g= g.reshape(1, 100)\n",
    "print(g)"
   ]
  },
  {
   "cell_type": "code",
   "execution_count": 7,
   "id": "3883e03f",
   "metadata": {},
   "outputs": [
    {
     "data": {
      "text/plain": [
       "42.0"
      ]
     },
     "execution_count": 7,
     "metadata": {},
     "output_type": "execute_result"
    }
   ],
   "source": [
    "a[0, -1]"
   ]
  },
  {
   "cell_type": "code",
   "execution_count": 11,
   "id": "bfc3d834",
   "metadata": {},
   "outputs": [
    {
     "name": "stdout",
     "output_type": "stream",
     "text": [
      "[[1.37138431 1.73932815 1.49311582 ... 1.64018411 1.38003613 1.        ]\n",
      " [1.55246433 1.93856588 1.56095227 ... 1.77804055 1.42952492 1.        ]\n",
      " [1.92706412 1.58078591 1.74357613 ... 1.44939002 1.58230004 1.        ]\n",
      " ...\n",
      " [1.77712405 1.448123   1.50307064 ... 1.56066314 1.40475314 1.        ]\n",
      " [1.8669669  1.86157399 1.92190917 ... 1.41375896 1.71192429 1.        ]\n",
      " [1.71393023 1.43363122 1.7535034  ... 1.61348102 1.40855032 1.        ]]\n",
      "(100, 100)\n"
     ]
    }
   ],
   "source": [
    "def sfunc(x):\n",
    "    d = 1/1+(np.exp(-x))\n",
    "    return d\n",
    "\n",
    "print(sfunc(a))\n",
    "print(sfunc(a).shape)"
   ]
  },
  {
   "cell_type": "code",
   "execution_count": 17,
   "id": "2638bf5f",
   "metadata": {},
   "outputs": [
    {
     "name": "stdout",
     "output_type": "stream",
     "text": [
      "(1, 100)\n"
     ]
    }
   ],
   "source": [
    "def soft(y):\n",
    "    e = np.exp(y)\n",
    "    f = np.sum(e, axis=0)\n",
    "    return e/f\n",
    "\n",
    "print(soft(g).shape)"
   ]
  },
  {
   "cell_type": "code",
   "execution_count": null,
   "id": "be757126",
   "metadata": {},
   "outputs": [],
   "source": []
  }
 ],
 "metadata": {
  "kernelspec": {
   "display_name": "Python 3",
   "language": "python",
   "name": "python3"
  },
  "language_info": {
   "codemirror_mode": {
    "name": "ipython",
    "version": 3
   },
   "file_extension": ".py",
   "mimetype": "text/x-python",
   "name": "python",
   "nbconvert_exporter": "python",
   "pygments_lexer": "ipython3",
   "version": "3.8.8"
  }
 },
 "nbformat": 4,
 "nbformat_minor": 5
}
