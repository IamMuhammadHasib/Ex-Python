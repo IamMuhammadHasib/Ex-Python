{
 "cells": [
  {
   "cell_type": "code",
   "execution_count": 9,
   "id": "b6436378",
   "metadata": {},
   "outputs": [
    {
     "name": "stdout",
     "output_type": "stream",
     "text": [
      "[[40.96251803  4.        ]\n",
      " [91.21431419  1.        ]\n",
      " [87.48296541  4.        ]\n",
      " [50.30426012  2.        ]\n",
      " [42.52232012  1.        ]]\n"
     ]
    }
   ],
   "source": [
    "import numpy as np\n",
    "from numpy import random\n",
    "\n",
    "x = random.uniform(low = 0, high = 100, size=(100))\n",
    "\n",
    "y = random.randint(5, size=(100))\n",
    "\n",
    "z = np.zeros([100, 2])\n",
    "z[:, 0] = x\n",
    "z[:, 1] = y\n",
    "print(z[:5])"
   ]
  },
  {
   "cell_type": "code",
   "execution_count": 2,
   "id": "b5e82f1c",
   "metadata": {},
   "outputs": [
    {
     "data": {
      "image/png": "[encoded data removed]",
      "text/plain": [
       "<Figure size 432x288 with 1 Axes>"
      ]
     },
     "metadata": {
      "needs_background": "light"
     },
     "output_type": "display_data"
    }
   ],
   "source": [
    "from matplotlib import pyplot as plt\n",
    "\n",
    "plt.scatter(x, y, c = 'g')\n",
    "plt.title(\"Random Scatter Graph\")\n",
    "plt.xlabel(\"Float values\")\n",
    "plt.ylabel(\"Integer values\")\n",
    "plt.show()"
   ]
  },
  {
   "cell_type": "code",
   "execution_count": 11,
   "id": "69305b2d",
   "metadata": {},
   "outputs": [
    {
     "name": "stdout",
     "output_type": "stream",
     "text": [
      "[[51.91990686  4.        ]\n",
      " [67.73901116  3.        ]\n",
      " [53.97051898  3.        ]\n",
      " [98.49470034  3.        ]\n",
      " [81.1012772   4.        ]]\n"
     ]
    }
   ],
   "source": [
    "a = random.uniform(low = 50, high = 100, size=(100))\n",
    "\n",
    "b = random.randint(3, 5, 100)\n",
    "\n",
    "c = np.zeros([100, 2])\n",
    "c[:, 0] = a\n",
    "c[:, 1] = b\n",
    "print(c[0:5, :])"
   ]
  },
  {
   "cell_type": "code",
   "execution_count": 12,
   "id": "60edb9c2",
   "metadata": {},
   "outputs": [
    {
     "name": "stdout",
     "output_type": "stream",
     "text": [
      "756.5069571464211\n"
     ]
    }
   ],
   "source": [
    "def mse(x, y):\n",
    "    w = (x - y)**2\n",
    "    v = np.sum(w, axis=0)\n",
    "    u = np.sum(v, axis=0)\n",
    "    return u/200\n",
    "\n",
    "print(mse(z, c))"
   ]
  },
  {
   "cell_type": "code",
   "execution_count": null,
   "id": "5b44cda0",
   "metadata": {},
   "outputs": [],
   "source": []
  }
 ],
 "metadata": {
  "kernelspec": {
   "display_name": "Python 3",
   "language": "python",
   "name": "python3"
  },
  "language_info": {
   "codemirror_mode": {
    "name": "ipython",
    "version": 3
   },
   "file_extension": ".py",
   "mimetype": "text/x-python",
   "name": "python",
   "nbconvert_exporter": "python",
   "pygments_lexer": "ipython3",
   "version": "3.8.8"
  }
 },
 "nbformat": 4,
 "nbformat_minor": 5
}
